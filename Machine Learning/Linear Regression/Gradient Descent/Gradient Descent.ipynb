{
 "cells": [
  {
   "cell_type": "markdown",
   "metadata": {},
   "source": [
    "<h2>We'll learn about Gradient Descent</h2>\n",
    "Gradient Descent is an algorithm that finds the best fit line for given data traning set"
   ]
  },
  {
   "cell_type": "code",
   "execution_count": 1,
   "metadata": {},
   "outputs": [],
   "source": [
    "import numpy as np\n",
    "import matplotlib.pyplot as plt"
   ]
  },
  {
   "cell_type": "markdown",
   "metadata": {},
   "source": [
    "<h2>We'll use numpy array list</h2>"
   ]
  },
  {
   "cell_type": "code",
   "execution_count": 2,
   "metadata": {},
   "outputs": [],
   "source": [
    "x = np.array([1, 2, 3, 4, 5])\n",
    "y = np.array([5, 7, 9, 11, 13])"
   ]
  },
  {
   "cell_type": "markdown",
   "metadata": {},
   "source": [
    "<h2>First of all we'll set m-current and b-current to 0</h2>"
   ]
  },
  {
   "cell_type": "code",
   "execution_count": 4,
   "metadata": {},
   "outputs": [],
   "source": [
    "%matplotlib inline\n",
    "def gradient_descent(x, y):\n",
    "    m_curr = b_curr = 0\n",
    "    iterations = 10\n",
    "    n = len(x)\n",
    "    learning_rate = 0.09\n",
    "    plt.scatter(x, y, color=\"red\", marker=\"+\", linewidth=\"5\")\n",
    "    \n",
    "    for i in range(iterations):\n",
    "        y_predicted = m_curr * x + b_curr\n",
    "        cost = (1/n) * sum([val**2 for val in y - y_predicted])\n",
    "        md = -(2/n) * sum(x * (y - y_predicted))\n",
    "        bd = -(2/n) * sum(y - y_predicted)\n",
    "        m_curr = m_curr - learning_rate * md\n",
    "        b_curr = b_curr - learning_rate * bd\n",
    "        print ('m {}, b {}, cost {}, iteration {}'.format(m_curr, b_curr, cost, i))"
   ]
  },
  {
   "cell_type": "code",
   "execution_count": 5,
   "metadata": {},
   "outputs": [
    {
     "name": "stdout",
     "output_type": "stream",
     "text": [
      "m 5.58, b 1.6199999999999999, cost 89.0, iteration 0\n",
      "m -0.7632000000000003, b -0.06480000000000019, cost 113.24240000000003, iteration 1\n",
      "m 6.362928, b 1.978992, cost 144.19294784000004, iteration 2\n",
      "m -1.7243251200000014, b -0.19320768000000021, cost 183.70149905254405, iteration 3\n",
      "m 7.374170764800002, b 2.3927052672, cost 234.12841033770985, iteration 4\n",
      "m -2.9387481937920032, b -0.4000338938880015, cost 298.48539880224337, iteration 5\n",
      "m 8.675991532615683, b 2.8788962316595206, cost 380.6152689317344, iteration 6\n",
      "m -4.477075667059509, b -0.7043405176516617, cost 485.42123210977206, iteration 7\n",
      "m 10.347878033250216, b 3.460061635737772, cost 619.1595028119792, iteration 8\n",
      "m -6.4293537558836125, b -1.1306035966501446, cost 789.8126314844135, iteration 9\n"
     ]
    },
    {
     "data": {
      "image/png": "[encoded data removed]",
      "text/plain": [
       "<Figure size 432x288 with 1 Axes>"
      ]
     },
     "metadata": {
      "needs_background": "light"
     },
     "output_type": "display_data"
    }
   ],
   "source": [
    "gradient_descent(x, y)"
   ]
  }
 ],
 "metadata": {
  "kernelspec": {
   "display_name": "Python 3",
   "language": "python",
   "name": "python3"
  },
  "language_info": {
   "codemirror_mode": {
    "name": "ipython",
    "version": 3
   },
   "file_extension": ".py",
   "mimetype": "text/x-python",
   "name": "python",
   "nbconvert_exporter": "python",
   "pygments_lexer": "ipython3",
   "version": "3.7.3"
  }
 },
 "nbformat": 4,
 "nbformat_minor": 2
}
